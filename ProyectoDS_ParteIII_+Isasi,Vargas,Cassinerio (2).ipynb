{
 "cells": [
  {
   "cell_type": "markdown",
   "id": "4269aa2a",
   "metadata": {
    "id": "4269aa2a"
   },
   "source": [
    "<div>\n",
    "<img src=\"logo.png\" width=\"200\"/>\n",
    "</div>\n",
    "\n",
    "# Algoritmo de Calculo de Probabilidad de que clientes bancarios realizen depositos a plazo\n",
    "\n",
    "#### Integrantes del proyecto: Juan Isasi - Jose Vargas - Juan Cassinerio\n",
    "\n",
    "## Introduccion\n",
    "\n",
    "***Contexto empresarial***\n",
    "Dentro de los productos y servicios que ofrecen los bancos, los depositos a plazo representan un gran porcentaje de las fuentes de ingresos. Para poder maximizar la cantidad de depositos a plazo realizados, se buscara identificar a los clientes (parametros) que tengan la mayor probabilidad de subscribirse a este tipo de producto y de esa manera poder mejorar los esfuerzos de marketing en dichos clientes.\n",
    "\n",
    "***Problema empresarial***:\n",
    "Se recopilo un conjuntos de datos con el objetivo de desarrollar modelos de predicción para clasificar la probabilidad de que clientes realizen depositos a plazo en bancos. Estos datos fueron tomados de un una campaa de marketing de una importante institucion bancaria de Portugal.\n",
    "\n",
    "***Contexto analitico***:\n",
    "Se nos permitio el acceso a un .cvs donde emplearemos un analisis descritivo para poder entender de mejor forma los datos recopilados y su relacion con la variable a investigar \"y\" (Si el deposito a plazo fue realizado o no).\n",
    "\n",
    "***Preguntas a responder a partir del conocimiento de los datos***\n",
    "\n",
    "- 1) Relacion entre estado civildel cliente y Prababiliadad de realizar depositos a plazo\n",
    "- 2) Meses en que los clientes son mas predispuetsos a realizar depositos a plazo\n",
    "- 3) Relacion entre edad del cliente y duracion del ultimo contacto con el mismo con la Probabilidad que este efectue un deposito a plazo"
   ]
  },
  {
   "cell_type": "markdown",
   "id": "46559f00",
   "metadata": {
    "id": "46559f00"
   },
   "source": [
    "Descarga del DataSets\n",
    "\n",
    "https://www.kaggle.com/datasets/rashmiranu/banking-dataset-classification"
   ]
  },
  {
   "cell_type": "markdown",
   "id": "552ebedf",
   "metadata": {
    "id": "552ebedf"
   },
   "source": [
    "## Variables:\n",
    "\n",
    "Este analisis servira para verificar si una persona sera propensa a realizar un depósito a plazo. La variable **output** a predecir es **y** donde 1: se subscribio 0: no se subscribio. Para ello se cuenta con las siguientes variables **input** :\n",
    "\n",
    "<table >\n",
    "<thead>\n",
    "  <tr>\n",
    "    <th>#</th>\n",
    "    <th>Variable</th>\n",
    "    <th>Concepto</th>\n",
    "  </tr>\n",
    "</thead>\n",
    "<tbody>\n",
    "    <tr>\n",
    "        <th>1</th>\n",
    "        <td>age</td>\n",
    "        <td>edad del cliente</td>\n",
    "    </tr>\n",
    "    <tr>\n",
    "        <th>2</th>\n",
    "        <td>job</td>\n",
    "        <td>profesion ('admin.','blue-collar','entrepreneur','housemaid','management','retired','self-employed','services','student','technician','unemployed','unknown')\n",
    "- marital: estado civil </td>    \n",
    "    </tr>\n",
    "    <tr>\n",
    "        <th>3</th>\n",
    "        <td>marital</td>\n",
    "        <td>estado civil </td>    \n",
    "    </tr>\n",
    "    <tr>\n",
    "        <th>4</th>\n",
    "        <td>education</td>\n",
    "        <td>formacion academica ('basic.4y','basic.6y','basic.9y','high.school','illiterate','professional.course','university.degree','unknown')</td>      \n",
    "    </tr>\n",
    "    <tr>\n",
    "        <th>5</th>\n",
    "        <td>default</td>\n",
    "        <td>si posee credito defaulteado ('no','yes','unknown')</td>   \n",
    "    </tr>\n",
    "    <tr>\n",
    "        <th>6</th>\n",
    "      <td>housing</td>\n",
    "      <td>si posee credito inmobiliario ('no','yes','unknown')</td>  \n",
    "    </tr>\n",
    "    <tr>\n",
    "        <th>7</th>\n",
    "      <td>loan</td>\n",
    "      <td>si posee un credito personal ('no','yes','unknown')</td> \n",
    "    </tr>\n",
    "    <tr>\n",
    "        <th>8</th>\n",
    "      <td>contact</td>\n",
    "      <td>metodo de contacto ('cellular','telephone')</td>   \n",
    "    </tr>\n",
    "    <tr>\n",
    "        <th>9</th>\n",
    "      <td>month</td>\n",
    "      <td>ultimo mes de contacto realizado al cliente durante la campaña de marketing ('jan', 'feb', 'mar', …, 'nov', 'dec')</td>   \n",
    "    </tr>\n",
    "    <tr>\n",
    "        <th>10</th>\n",
    "      <td>day_of_week</td>\n",
    "      <td>ultimo contacto de la semana ('mon','tue','wed','thu','fri')</td>   \n",
    "    </tr>\n",
    "    <tr>\n",
    "        <th>11</th>\n",
    "      <td>duration</td>\n",
    "      <td>duracion del ultimo contacto en dicha llamada, en segundos</td> \n",
    "    </tr>\n",
    "    <tr>\n",
    "        <th>12</th>\n",
    "      <td>campaign</td>\n",
    "      <td>numero de contactos realizados durante esta ultima campaña</td>    \n",
    "    </tr>\n",
    "    <tr>\n",
    "        <th>13</th>\n",
    "      <td>pdays</td>\n",
    "      <td>numero de dias que pasaron desde la ultima vez que fue contactado (999 means client was not previously contacted)</td>\n",
    "        <td></td>\n",
    "    </tr>\n",
    "    <tr>\n",
    "        <th>14</th>\n",
    "      <td>previous</td>\n",
    "      <td>numero de contactos realizados a este cliente antes de la presente campaña</td> \n",
    "    </tr>\n",
    "    <tr>\n",
    "        <th>15</th>\n",
    "      <td>poutcome</td>\n",
    "      <td>resultado de la campaña ('failure','nonexistent','success')</td>  \n",
    "    </tr>    \n",
    "</tbody>\n",
    "</table>"
   ]
  },
  {
   "cell_type": "code",
   "execution_count": 2,
   "id": "13039fbd",
   "metadata": {
    "colab": {
     "base_uri": "https://localhost:8080/",
     "height": 380
    },
    "executionInfo": {
     "elapsed": 1330,
     "status": "error",
     "timestamp": 1671299370952,
     "user": {
      "displayName": "Juan Cassinerio",
      "userId": "12300697861596979581"
     },
     "user_tz": 180
    },
    "id": "13039fbd",
    "outputId": "3ca51a95-b2e7-47bb-b488-1d626c7d3753"
   },
   "outputs": [
    {
     "data": {
      "text/html": [
       "<div>\n",
       "<style scoped>\n",
       "    .dataframe tbody tr th:only-of-type {\n",
       "        vertical-align: middle;\n",
       "    }\n",
       "\n",
       "    .dataframe tbody tr th {\n",
       "        vertical-align: top;\n",
       "    }\n",
       "\n",
       "    .dataframe thead th {\n",
       "        text-align: right;\n",
       "    }\n",
       "</style>\n",
       "<table border=\"1\" class=\"dataframe\">\n",
       "  <thead>\n",
       "    <tr style=\"text-align: right;\">\n",
       "      <th></th>\n",
       "      <th>age</th>\n",
       "      <th>job</th>\n",
       "      <th>marital</th>\n",
       "      <th>education</th>\n",
       "      <th>default</th>\n",
       "      <th>housing</th>\n",
       "      <th>loan</th>\n",
       "      <th>contact</th>\n",
       "      <th>month</th>\n",
       "      <th>day_of_week</th>\n",
       "      <th>duration</th>\n",
       "      <th>campaign</th>\n",
       "      <th>pdays</th>\n",
       "      <th>previous</th>\n",
       "      <th>poutcome</th>\n",
       "      <th>y</th>\n",
       "    </tr>\n",
       "  </thead>\n",
       "  <tbody>\n",
       "    <tr>\n",
       "      <th>0</th>\n",
       "      <td>49</td>\n",
       "      <td>blue-collar</td>\n",
       "      <td>married</td>\n",
       "      <td>basic.9y</td>\n",
       "      <td>unknown</td>\n",
       "      <td>no</td>\n",
       "      <td>no</td>\n",
       "      <td>cellular</td>\n",
       "      <td>nov</td>\n",
       "      <td>wed</td>\n",
       "      <td>227</td>\n",
       "      <td>4</td>\n",
       "      <td>999</td>\n",
       "      <td>0</td>\n",
       "      <td>nonexistent</td>\n",
       "      <td>no</td>\n",
       "    </tr>\n",
       "    <tr>\n",
       "      <th>1</th>\n",
       "      <td>37</td>\n",
       "      <td>entrepreneur</td>\n",
       "      <td>married</td>\n",
       "      <td>university.degree</td>\n",
       "      <td>no</td>\n",
       "      <td>no</td>\n",
       "      <td>no</td>\n",
       "      <td>telephone</td>\n",
       "      <td>nov</td>\n",
       "      <td>wed</td>\n",
       "      <td>202</td>\n",
       "      <td>2</td>\n",
       "      <td>999</td>\n",
       "      <td>1</td>\n",
       "      <td>failure</td>\n",
       "      <td>no</td>\n",
       "    </tr>\n",
       "    <tr>\n",
       "      <th>2</th>\n",
       "      <td>78</td>\n",
       "      <td>retired</td>\n",
       "      <td>married</td>\n",
       "      <td>basic.4y</td>\n",
       "      <td>no</td>\n",
       "      <td>no</td>\n",
       "      <td>no</td>\n",
       "      <td>cellular</td>\n",
       "      <td>jul</td>\n",
       "      <td>mon</td>\n",
       "      <td>1148</td>\n",
       "      <td>1</td>\n",
       "      <td>999</td>\n",
       "      <td>0</td>\n",
       "      <td>nonexistent</td>\n",
       "      <td>yes</td>\n",
       "    </tr>\n",
       "    <tr>\n",
       "      <th>3</th>\n",
       "      <td>36</td>\n",
       "      <td>admin.</td>\n",
       "      <td>married</td>\n",
       "      <td>university.degree</td>\n",
       "      <td>no</td>\n",
       "      <td>yes</td>\n",
       "      <td>no</td>\n",
       "      <td>telephone</td>\n",
       "      <td>may</td>\n",
       "      <td>mon</td>\n",
       "      <td>120</td>\n",
       "      <td>2</td>\n",
       "      <td>999</td>\n",
       "      <td>0</td>\n",
       "      <td>nonexistent</td>\n",
       "      <td>no</td>\n",
       "    </tr>\n",
       "    <tr>\n",
       "      <th>4</th>\n",
       "      <td>59</td>\n",
       "      <td>retired</td>\n",
       "      <td>divorced</td>\n",
       "      <td>university.degree</td>\n",
       "      <td>no</td>\n",
       "      <td>no</td>\n",
       "      <td>no</td>\n",
       "      <td>cellular</td>\n",
       "      <td>jun</td>\n",
       "      <td>tue</td>\n",
       "      <td>368</td>\n",
       "      <td>2</td>\n",
       "      <td>999</td>\n",
       "      <td>0</td>\n",
       "      <td>nonexistent</td>\n",
       "      <td>no</td>\n",
       "    </tr>\n",
       "  </tbody>\n",
       "</table>\n",
       "</div>"
      ],
      "text/plain": [
       "   age           job   marital          education  default housing loan  \\\n",
       "0   49   blue-collar   married           basic.9y  unknown      no   no   \n",
       "1   37  entrepreneur   married  university.degree       no      no   no   \n",
       "2   78       retired   married           basic.4y       no      no   no   \n",
       "3   36        admin.   married  university.degree       no     yes   no   \n",
       "4   59       retired  divorced  university.degree       no      no   no   \n",
       "\n",
       "     contact month day_of_week  duration  campaign  pdays  previous  \\\n",
       "0   cellular   nov         wed       227         4    999         0   \n",
       "1  telephone   nov         wed       202         2    999         1   \n",
       "2   cellular   jul         mon      1148         1    999         0   \n",
       "3  telephone   may         mon       120         2    999         0   \n",
       "4   cellular   jun         tue       368         2    999         0   \n",
       "\n",
       "      poutcome    y  \n",
       "0  nonexistent   no  \n",
       "1      failure   no  \n",
       "2  nonexistent  yes  \n",
       "3  nonexistent   no  \n",
       "4  nonexistent   no  "
      ]
     },
     "execution_count": 2,
     "metadata": {},
     "output_type": "execute_result"
    }
   ],
   "source": [
    "#Seleccion / llamada del Datasets\n",
    "import pandas as pd\n",
    "df = pd.read_csv('new_train.csv')\n",
    "#Vista previa del Datasets\n",
    "df.head(5)"
   ]
  },
  {
   "cell_type": "code",
   "execution_count": 3,
   "id": "d9d07b20",
   "metadata": {},
   "outputs": [
    {
     "data": {
      "text/plain": [
       "age             int64\n",
       "job            object\n",
       "marital        object\n",
       "education      object\n",
       "default        object\n",
       "housing        object\n",
       "loan           object\n",
       "contact        object\n",
       "month          object\n",
       "day_of_week    object\n",
       "duration        int64\n",
       "campaign        int64\n",
       "pdays           int64\n",
       "previous        int64\n",
       "poutcome       object\n",
       "y              object\n",
       "dtype: object"
      ]
     },
     "execution_count": 3,
     "metadata": {},
     "output_type": "execute_result"
    }
   ],
   "source": [
    "df.dtypes"
   ]
  },
  {
   "cell_type": "markdown",
   "id": "e7e91735",
   "metadata": {
    "id": "e7e91735"
   },
   "source": [
    "### 1) Relacion entre estado civil del cliente y Prababiliadad de realizar depositos a plazo"
   ]
  },
  {
   "cell_type": "code",
   "execution_count": 4,
   "id": "fb7b3f6a",
   "metadata": {
    "id": "fb7b3f6a",
    "outputId": "16377cc5-e265-4d21-ec7b-adfeee182f90"
   },
   "outputs": [
    {
     "data": {
      "text/plain": [
       "<AxesSubplot:title={'center':'Estado Civil vs. Clientes con Plazos Fijos'}, xlabel='Estado Civil', ylabel='Plazos Fijos %'>"
      ]
     },
     "execution_count": 4,
     "metadata": {},
     "output_type": "execute_result"
    },
    {
     "data": {
      "image/png": "[encoded data removed]",
      "text/plain": [
       "<Figure size 288x216 with 1 Axes>"
      ]
     },
     "metadata": {
      "needs_background": "light"
     },
     "output_type": "display_data"
    }
   ],
   "source": [
    "import matplotlib.pyplot as plt\n",
    "import seaborn as sns\n",
    "\n",
    "df.groupby(\"marital\").sum()\n",
    "plt.figure(figsize=(4,3))\n",
    "plt.title(\"Estado Civil vs. Clientes con Plazos Fijos\")\n",
    "plt.xlabel('Estado Civil')\n",
    "plt.ylabel('Plazos Fijos %')\n",
    "plt.ylim(0,0.2)\n",
    "sns.histplot(data=df,x='marital',hue='y',palette = \"dark\",multiple=\"fill\") "
   ]
  },
  {
   "cell_type": "markdown",
   "id": "155d97ba",
   "metadata": {
    "id": "155d97ba"
   },
   "source": [
    "Se observa que predominan los depostios a plazo en clientes Solteros con un 15%, mientras que las personas casadas muestran un 10%, un 33% menor. Igualmente cabe resaltar que se desconoce el estado civil del 17% de las muestras."
   ]
  },
  {
   "cell_type": "markdown",
   "id": "79cc571e",
   "metadata": {
    "id": "79cc571e"
   },
   "source": [
    "### 2) Meses en que los clientes son mas predispuetsos a realizar depositos a plazo"
   ]
  },
  {
   "cell_type": "code",
   "execution_count": 5,
   "id": "11ac33e6",
   "metadata": {
    "id": "11ac33e6",
    "outputId": "8f6fe828-a00b-4cb1-eac0-f1542492913f",
    "scrolled": true
   },
   "outputs": [
    {
     "data": {
      "image/png": "[encoded data removed]",
      "text/plain": [
       "<Figure size 576x216 with 1 Axes>"
      ]
     },
     "metadata": {
      "needs_background": "light"
     },
     "output_type": "display_data"
    }
   ],
   "source": [
    "plt.figure(figsize=(8,3))\n",
    "plt.title(\"Subscripcion a Deposito a plazo vs Mes de contacto con el cliente durante la campaña de marketing\")\n",
    "plt.xlabel('Mes')\n",
    "plt.ylabel('Subscripcion a Deposito')\n",
    "sns.histplot(data=df,x=\"month\", hue=\"y\",multiple=\"fill\",discrete=True, shrink=1)\n",
    "plt.show()"
   ]
  },
  {
   "cell_type": "markdown",
   "id": "9c802f76",
   "metadata": {
    "id": "9c802f76"
   },
   "source": [
    "Podemos observar que los meses de Marzo, Octubre, Septiembre y Diciembre tuvieron un ratio sobresaliente de Subscripciones a Depositos a Plazo, un 200% mayor en promedio que el resto de meses."
   ]
  },
  {
   "cell_type": "markdown",
   "id": "b95cdc2c",
   "metadata": {
    "id": "b95cdc2c"
   },
   "source": [
    "### 3) Relacion entre edad del cliente y duracion del ultimo contacto con el mismo con la Probabilidad que este efectue un deposito a plazo"
   ]
  },
  {
   "cell_type": "code",
   "execution_count": 6,
   "id": "e56a2da8",
   "metadata": {
    "id": "e56a2da8",
    "outputId": "2ddffe2b-4950-4ca0-a461-aaca76980e1a"
   },
   "outputs": [
    {
     "data": {
      "image/png": "[encoded data removed]",
      "text/plain": [
       "<Figure size 648x216 with 1 Axes>"
      ]
     },
     "metadata": {
      "needs_background": "light"
     },
     "output_type": "display_data"
    },
    {
     "data": {
      "image/png": "[encoded data removed]",
      "text/plain": [
       "<Figure size 648x216 with 1 Axes>"
      ]
     },
     "metadata": {
      "needs_background": "light"
     },
     "output_type": "display_data"
    }
   ],
   "source": [
    "plt.figure(figsize=(9,3))\n",
    "plt.title(\"Subscripcion a Deposito a plazo vs Ocupacion del Cliente\")\n",
    "plt.xlabel('Edad')\n",
    "plt.ylabel('Subscripcion a Deposito')\n",
    "sns.histplot(data=df,x=\"age\", hue=\"y\",multiple=\"fill\",discrete=True, shrink=.8)\n",
    "plt.show()\n",
    "\n",
    "plt.figure(figsize=(9,3))\n",
    "plt.title(\"Subscripcion a Deposito a plazo vs Tiempo ultimo contacto realizado al Cliente\")\n",
    "plt.xlabel('Segundos')\n",
    "plt.ylabel('Subscripcion a Deposito')\n",
    "plt.xlim(0,2000)\n",
    "sns.histplot(data=df,x='duration',hue='y',multiple=\"fill\")\n",
    "plt.show()"
   ]
  },
  {
   "cell_type": "markdown",
   "id": "b6e6fc0c",
   "metadata": {
    "id": "b6e6fc0c"
   },
   "source": [
    "De la primera grafica podemos observar que los clientes con edad menor a 25 años y mayor a 60 años son mas proclives a realizar depositos a plazo.\n",
    "\n",
    "De la segunda grafica Las llamadas a clientes con duracion menor a 100 segundos no concretaron con realizar depositos Las llamadas con duracion entre 760 segundos (12min) o mas tuvieron mas de un 50% de concretar en depositos. Parece haber una correlacion directa entre el ratio de subscripcion y la duracion de la llamada con el cliente."
   ]
  },
  {
   "cell_type": "code",
   "execution_count": 7,
   "id": "ee24657d",
   "metadata": {},
   "outputs": [
    {
     "data": {
      "text/html": [
       "<div>\n",
       "<style scoped>\n",
       "    .dataframe tbody tr th:only-of-type {\n",
       "        vertical-align: middle;\n",
       "    }\n",
       "\n",
       "    .dataframe tbody tr th {\n",
       "        vertical-align: top;\n",
       "    }\n",
       "\n",
       "    .dataframe thead th {\n",
       "        text-align: right;\n",
       "    }\n",
       "</style>\n",
       "<table border=\"1\" class=\"dataframe\">\n",
       "  <thead>\n",
       "    <tr style=\"text-align: right;\">\n",
       "      <th></th>\n",
       "      <th>age</th>\n",
       "      <th>duration</th>\n",
       "      <th>y</th>\n",
       "      <th>month_apr</th>\n",
       "      <th>month_aug</th>\n",
       "      <th>month_dec</th>\n",
       "      <th>month_jul</th>\n",
       "      <th>month_jun</th>\n",
       "      <th>month_mar</th>\n",
       "      <th>month_may</th>\n",
       "      <th>month_nov</th>\n",
       "      <th>month_oct</th>\n",
       "      <th>month_sep</th>\n",
       "      <th>marital_divorced</th>\n",
       "      <th>marital_married</th>\n",
       "      <th>marital_single</th>\n",
       "      <th>marital_unknown</th>\n",
       "    </tr>\n",
       "  </thead>\n",
       "  <tbody>\n",
       "    <tr>\n",
       "      <th>0</th>\n",
       "      <td>49</td>\n",
       "      <td>227</td>\n",
       "      <td>no</td>\n",
       "      <td>0</td>\n",
       "      <td>0</td>\n",
       "      <td>0</td>\n",
       "      <td>0</td>\n",
       "      <td>0</td>\n",
       "      <td>0</td>\n",
       "      <td>0</td>\n",
       "      <td>1</td>\n",
       "      <td>0</td>\n",
       "      <td>0</td>\n",
       "      <td>0</td>\n",
       "      <td>1</td>\n",
       "      <td>0</td>\n",
       "      <td>0</td>\n",
       "    </tr>\n",
       "    <tr>\n",
       "      <th>1</th>\n",
       "      <td>37</td>\n",
       "      <td>202</td>\n",
       "      <td>no</td>\n",
       "      <td>0</td>\n",
       "      <td>0</td>\n",
       "      <td>0</td>\n",
       "      <td>0</td>\n",
       "      <td>0</td>\n",
       "      <td>0</td>\n",
       "      <td>0</td>\n",
       "      <td>1</td>\n",
       "      <td>0</td>\n",
       "      <td>0</td>\n",
       "      <td>0</td>\n",
       "      <td>1</td>\n",
       "      <td>0</td>\n",
       "      <td>0</td>\n",
       "    </tr>\n",
       "    <tr>\n",
       "      <th>2</th>\n",
       "      <td>78</td>\n",
       "      <td>1148</td>\n",
       "      <td>yes</td>\n",
       "      <td>0</td>\n",
       "      <td>0</td>\n",
       "      <td>0</td>\n",
       "      <td>1</td>\n",
       "      <td>0</td>\n",
       "      <td>0</td>\n",
       "      <td>0</td>\n",
       "      <td>0</td>\n",
       "      <td>0</td>\n",
       "      <td>0</td>\n",
       "      <td>0</td>\n",
       "      <td>1</td>\n",
       "      <td>0</td>\n",
       "      <td>0</td>\n",
       "    </tr>\n",
       "    <tr>\n",
       "      <th>3</th>\n",
       "      <td>36</td>\n",
       "      <td>120</td>\n",
       "      <td>no</td>\n",
       "      <td>0</td>\n",
       "      <td>0</td>\n",
       "      <td>0</td>\n",
       "      <td>0</td>\n",
       "      <td>0</td>\n",
       "      <td>0</td>\n",
       "      <td>1</td>\n",
       "      <td>0</td>\n",
       "      <td>0</td>\n",
       "      <td>0</td>\n",
       "      <td>0</td>\n",
       "      <td>1</td>\n",
       "      <td>0</td>\n",
       "      <td>0</td>\n",
       "    </tr>\n",
       "    <tr>\n",
       "      <th>4</th>\n",
       "      <td>59</td>\n",
       "      <td>368</td>\n",
       "      <td>no</td>\n",
       "      <td>0</td>\n",
       "      <td>0</td>\n",
       "      <td>0</td>\n",
       "      <td>0</td>\n",
       "      <td>1</td>\n",
       "      <td>0</td>\n",
       "      <td>0</td>\n",
       "      <td>0</td>\n",
       "      <td>0</td>\n",
       "      <td>0</td>\n",
       "      <td>1</td>\n",
       "      <td>0</td>\n",
       "      <td>0</td>\n",
       "      <td>0</td>\n",
       "    </tr>\n",
       "  </tbody>\n",
       "</table>\n",
       "</div>"
      ],
      "text/plain": [
       "   age  duration    y  month_apr  month_aug  month_dec  month_jul  month_jun  \\\n",
       "0   49       227   no          0          0          0          0          0   \n",
       "1   37       202   no          0          0          0          0          0   \n",
       "2   78      1148  yes          0          0          0          1          0   \n",
       "3   36       120   no          0          0          0          0          0   \n",
       "4   59       368   no          0          0          0          0          1   \n",
       "\n",
       "   month_mar  month_may  month_nov  month_oct  month_sep  marital_divorced  \\\n",
       "0          0          0          1          0          0                 0   \n",
       "1          0          0          1          0          0                 0   \n",
       "2          0          0          0          0          0                 0   \n",
       "3          0          1          0          0          0                 0   \n",
       "4          0          0          0          0          0                 1   \n",
       "\n",
       "   marital_married  marital_single  marital_unknown  \n",
       "0                1               0                0  \n",
       "1                1               0                0  \n",
       "2                1               0                0  \n",
       "3                1               0                0  \n",
       "4                0               0                0  "
      ]
     },
     "execution_count": 7,
     "metadata": {},
     "output_type": "execute_result"
    }
   ],
   "source": [
    "dummy_month = pd.get_dummies(df[\"month\"], prefix=\"month\")\n",
    "dummy_marital = pd.get_dummies(df[\"marital\"], prefix=\"marital\")\n",
    "\n",
    "\n",
    "df1 = df.drop(['job','education','default','housing','loan','contact','day_of_week','campaign','pdays','previous','poutcome'], axis=1)\n",
    "\n",
    "df2 = df1.drop([\"month\"], axis=1)\n",
    "df3 = df2.drop([\"marital\"], axis=1)\n",
    "\n",
    "df3 = pd.concat([df3, dummy_month, dummy_marital], axis=1)\n",
    "df3.head()"
   ]
  },
  {
   "cell_type": "code",
   "execution_count": 8,
   "id": "e86da747",
   "metadata": {},
   "outputs": [],
   "source": [
    "df4= df3.replace('yes',1)\n",
    "df5= df4.replace('no',0)\n",
    "df6=df5.drop(['y'], axis=1)"
   ]
  },
  {
   "cell_type": "code",
   "execution_count": 9,
   "id": "d8580c66",
   "metadata": {},
   "outputs": [
    {
     "name": "stdout",
     "output_type": "stream",
     "text": [
      "Requirement already satisfied: mlxtend in c:\\users\\usuario\\anaconda3\\lib\\site-packages (0.21.0)Note: you may need to restart the kernel to use updated packages.\n",
      "Requirement already satisfied: joblib>=0.13.2 in c:\\users\\usuario\\anaconda3\\lib\\site-packages (from mlxtend) (1.1.0)\n",
      "Requirement already satisfied: setuptools in c:\\users\\usuario\\anaconda3\\lib\\site-packages (from mlxtend) (61.2.0)\n",
      "Requirement already satisfied: numpy>=1.16.2 in c:\\users\\usuario\\anaconda3\\lib\\site-packages (from mlxtend) (1.21.5)\n",
      "Requirement already satisfied: scikit-learn>=1.0.2 in c:\\users\\usuario\\anaconda3\\lib\\site-packages (from mlxtend) (1.0.2)\n",
      "\n",
      "Requirement already satisfied: pandas>=0.24.2 in c:\\users\\usuario\\anaconda3\\lib\\site-packages (from mlxtend) (1.4.2)\n",
      "Requirement already satisfied: matplotlib>=3.0.0 in c:\\users\\usuario\\anaconda3\\lib\\site-packages (from mlxtend) (3.5.1)\n",
      "Requirement already satisfied: scipy>=1.2.1 in c:\\users\\usuario\\anaconda3\\lib\\site-packages (from mlxtend) (1.7.3)\n",
      "Requirement already satisfied: pillow>=6.2.0 in c:\\users\\usuario\\anaconda3\\lib\\site-packages (from matplotlib>=3.0.0->mlxtend) (9.0.1)\n",
      "Requirement already satisfied: python-dateutil>=2.7 in c:\\users\\usuario\\anaconda3\\lib\\site-packages (from matplotlib>=3.0.0->mlxtend) (2.8.2)\n",
      "Requirement already satisfied: kiwisolver>=1.0.1 in c:\\users\\usuario\\anaconda3\\lib\\site-packages (from matplotlib>=3.0.0->mlxtend) (1.3.2)\n",
      "Requirement already satisfied: fonttools>=4.22.0 in c:\\users\\usuario\\anaconda3\\lib\\site-packages (from matplotlib>=3.0.0->mlxtend) (4.25.0)\n",
      "Requirement already satisfied: pyparsing>=2.2.1 in c:\\users\\usuario\\anaconda3\\lib\\site-packages (from matplotlib>=3.0.0->mlxtend) (3.0.4)\n",
      "Requirement already satisfied: packaging>=20.0 in c:\\users\\usuario\\anaconda3\\lib\\site-packages (from matplotlib>=3.0.0->mlxtend) (21.3)\n",
      "Requirement already satisfied: cycler>=0.10 in c:\\users\\usuario\\anaconda3\\lib\\site-packages (from matplotlib>=3.0.0->mlxtend) (0.11.0)\n",
      "Requirement already satisfied: pytz>=2020.1 in c:\\users\\usuario\\anaconda3\\lib\\site-packages (from pandas>=0.24.2->mlxtend) (2021.3)\n",
      "Requirement already satisfied: six>=1.5 in c:\\users\\usuario\\anaconda3\\lib\\site-packages (from python-dateutil>=2.7->matplotlib>=3.0.0->mlxtend) (1.16.0)\n",
      "Requirement already satisfied: threadpoolctl>=2.0.0 in c:\\users\\usuario\\anaconda3\\lib\\site-packages (from scikit-learn>=1.0.2->mlxtend) (2.2.0)\n"
     ]
    }
   ],
   "source": [
    "pip install mlxtend"
   ]
  },
  {
   "cell_type": "code",
   "execution_count": 19,
   "id": "a899d9e4",
   "metadata": {},
   "outputs": [
    {
     "name": "stdout",
     "output_type": "stream",
     "text": [
      "accuracy_score = 0.8995447647951441\n",
      "f1_score = 0.3445544554455445\n",
      "recall_score = 0.23481781376518218\n",
      "precision_score = 0.6468401486988847\n",
      "\n",
      " classification_report               precision    recall  f1-score   support\n",
      "\n",
      "           0       0.91      0.98      0.95      5849\n",
      "           1       0.65      0.23      0.34       741\n",
      "\n",
      "    accuracy                           0.90      6590\n",
      "   macro avg       0.78      0.61      0.65      6590\n",
      "weighted avg       0.88      0.90      0.88      6590\n",
      "\n"
     ]
    },
    {
     "data": {
      "image/png": "[encoded data removed]",
      "text/plain": [
       "<Figure size 432x432 with 1 Axes>"
      ]
     },
     "metadata": {
      "needs_background": "light"
     },
     "output_type": "display_data"
    }
   ],
   "source": [
    "from sklearn.model_selection import train_test_split\n",
    "\n",
    "x = df6.iloc[:,:15]\n",
    "y = df5.iloc[:,2]\n",
    "X_train, X_test, y_train, y_test = train_test_split(x,y, test_size=0.2, random_state=1)\n",
    "from sklearn.preprocessing import StandardScaler\n",
    "escalar = StandardScaler()\n",
    "X_train = escalar.fit_transform(X_train)\n",
    "X_test = escalar.transform(X_test)\n",
    "\n",
    "from sklearn.linear_model import LogisticRegression\n",
    "algoritmo = LogisticRegression()\n",
    "algoritmo.fit(X_train, y_train)\n",
    "y_pred = algoritmo.predict(X_test)\n",
    "y_pred\n",
    "\n",
    "from mlxtend.plotting import plot_confusion_matrix\n",
    "from sklearn.metrics import accuracy_score, confusion_matrix, classification_report,f1_score,recall_score,precision_score\n",
    "\n",
    "print('accuracy_score =',accuracy_score(y_test, y_pred))\n",
    "print('f1_score =',f1_score(y_test, y_pred))\n",
    "print('recall_score =',recall_score(y_test, y_pred))\n",
    "print('precision_score =',precision_score(y_test, y_pred))\n",
    "print('\\n classification_report', classification_report(y_test, y_pred))\n",
    "\n",
    "matriz = confusion_matrix(y_test,y_pred)\n",
    "plot_confusion_matrix(conf_mat=matriz, figsize=(6,6), show_normed=True)\n",
    "plt.tight_layout();\n",
    "\n",
    "#### print(\"prediccion=\",y_pred = algoritmo.predict([]))"
   ]
  },
  {
   "cell_type": "markdown",
   "id": "bf8db9fd",
   "metadata": {
    "id": "bf8db9fd"
   },
   "source": [
    "Utilizando los datos de duracion de llamada, edad del cliente, el mes de contacto y estado civil del cliente realizamos un nuevo algoritmo de prediccion, obteniendo un score de 90% utilizando un regresion logistica.\n",
    "\n",
    "De la matriz de confusion podemos observar la presicion del este preeliminar modelo, observando los valores de falso y verdaderos negativos/positivos correspondientementes."
   ]
  },
  {
   "cell_type": "code",
   "execution_count": 21,
   "id": "8878a69c",
   "metadata": {},
   "outputs": [
    {
     "name": "stdout",
     "output_type": "stream",
     "text": [
      "accuracy_score = 0.8638846737481032\n",
      "f1_score = 0.39595959595959596\n",
      "recall_score = 0.3967611336032389\n",
      "precision_score = 0.3951612903225806\n",
      "\n",
      " classification_report               precision    recall  f1-score   support\n",
      "\n",
      "           0       0.92      0.92      0.92      5849\n",
      "           1       0.40      0.40      0.40       741\n",
      "\n",
      "    accuracy                           0.86      6590\n",
      "   macro avg       0.66      0.66      0.66      6590\n",
      "weighted avg       0.86      0.86      0.86      6590\n",
      "\n"
     ]
    },
    {
     "data": {
      "image/png": "[encoded data removed]",
      "text/plain": [
       "<Figure size 432x432 with 1 Axes>"
      ]
     },
     "metadata": {
      "needs_background": "light"
     },
     "output_type": "display_data"
    }
   ],
   "source": [
    "from sklearn.tree import DecisionTreeClassifier\n",
    "\n",
    "tree_clf = DecisionTreeClassifier(random_state=42)\n",
    "tree_clf.fit(X_train, y_train)\n",
    "y_pred=tree_clf.predict(X_test)\n",
    "\n",
    "print('accuracy_score =',accuracy_score(y_test, y_pred))\n",
    "print('f1_score =',f1_score(y_test, y_pred))\n",
    "print('recall_score =',recall_score(y_test, y_pred))\n",
    "print('precision_score =',precision_score(y_test, y_pred))\n",
    "print('\\n classification_report', classification_report(y_test, y_pred))\n",
    "\n",
    "matriz = confusion_matrix(y_test,y_pred)\n",
    "plot_confusion_matrix(conf_mat=matriz, figsize=(6,6), show_normed=True)\n",
    "plt.tight_layout();"
   ]
  },
  {
   "cell_type": "code",
   "execution_count": 22,
   "id": "32534c7c",
   "metadata": {},
   "outputs": [
    {
     "name": "stdout",
     "output_type": "stream",
     "text": [
      "accuracy_score = 0.8638846737481032\n",
      "f1_score = 0.39595959595959596\n",
      "recall_score = 0.3967611336032389\n",
      "precision_score = 0.3951612903225806\n",
      "\n",
      " classification_report               precision    recall  f1-score   support\n",
      "\n",
      "           0       0.92      0.92      0.92      5849\n",
      "           1       0.40      0.40      0.40       741\n",
      "\n",
      "    accuracy                           0.86      6590\n",
      "   macro avg       0.66      0.66      0.66      6590\n",
      "weighted avg       0.86      0.86      0.86      6590\n",
      "\n"
     ]
    },
    {
     "data": {
      "image/png": "[encoded data removed]",
      "text/plain": [
       "<Figure size 432x432 with 1 Axes>"
      ]
     },
     "metadata": {
      "needs_background": "light"
     },
     "output_type": "display_data"
    }
   ],
   "source": [
    "from sklearn.ensemble import RandomForestClassifier\n",
    "\n",
    "rf_clf = RandomForestClassifier(n_estimators=100)\n",
    "rf_clf.fit(X_train, y_train)\n",
    "y_pred=rf_clf.predict(X_test)\n",
    "\n",
    "print('accuracy_score =',accuracy_score(y_test, y_pred))\n",
    "print('f1_score =',f1_score(y_test, y_pred))\n",
    "print('recall_score =',recall_score(y_test, y_pred))\n",
    "print('precision_score =',precision_score(y_test, y_pred))\n",
    "print('\\n classification_report', classification_report(y_test, y_pred))\n",
    "\n",
    "matriz = confusion_matrix(y_test,y_pred)\n",
    "plot_confusion_matrix(conf_mat=matriz, figsize=(6,6), show_normed=True)\n",
    "plt.tight_layout();"
   ]
  }
 ],
 "metadata": {
  "colab": {
   "provenance": []
  },
  "kernelspec": {
   "display_name": "Python 3 (ipykernel)",
   "language": "python",
   "name": "python3"
  },
  "language_info": {
   "codemirror_mode": {
    "name": "ipython",
    "version": 3
   },
   "file_extension": ".py",
   "mimetype": "text/x-python",
   "name": "python",
   "nbconvert_exporter": "python",
   "pygments_lexer": "ipython3",
   "version": "3.9.12"
  }
 },
 "nbformat": 4,
 "nbformat_minor": 5
}
